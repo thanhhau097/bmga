{
 "cells": [
  {
   "cell_type": "code",
   "execution_count": 8,
   "metadata": {},
   "outputs": [],
   "source": [
    "import os\n",
    "import random"
   ]
  },
  {
   "cell_type": "code",
   "execution_count": 9,
   "metadata": {},
   "outputs": [],
   "source": [
    "import wonderwords\n",
    "\n",
    "with open(\"color_split1.txt\", \"r\") as f:\n",
    "    colors = f.read().splitlines()\n",
    "\n",
    "colors = [c.split(\", \")[1] for c in colors]"
   ]
  },
  {
   "cell_type": "code",
   "execution_count": 14,
   "metadata": {},
   "outputs": [],
   "source": [
    "# random words and map with colors\n",
    "n_words = 100000\n",
    "r = wonderwords.RandomWord()\n",
    "random_words = [\" \".join(r.random_words(random.randint(1, 5))) for _ in range(n_words)]\n",
    "\n",
    "# random colors\n",
    "random_colors = [random.choice(colors) for _ in range(n_words)]\n",
    "\n",
    "# write to file\n",
    "with open(\"random_text_color.txt\", \"w\") as f:\n",
    "    for i in range(n_words):\n",
    "        f.write(f\"{random_words[i]}, {random_colors[i]}\")\n",
    "        f.write(\"\\n\")\n"
   ]
  },
  {
   "cell_type": "code",
   "execution_count": null,
   "metadata": {},
   "outputs": [],
   "source": []
  },
  {
   "cell_type": "code",
   "execution_count": null,
   "metadata": {},
   "outputs": [],
   "source": []
  },
  {
   "cell_type": "code",
   "execution_count": null,
   "metadata": {},
   "outputs": [],
   "source": []
  }
 ],
 "metadata": {
  "kernelspec": {
   "display_name": "env38",
   "language": "python",
   "name": "python3"
  },
  "language_info": {
   "codemirror_mode": {
    "name": "ipython",
    "version": 3
   },
   "file_extension": ".py",
   "mimetype": "text/x-python",
   "name": "python",
   "nbconvert_exporter": "python",
   "pygments_lexer": "ipython3",
   "version": "3.8.16"
  },
  "orig_nbformat": 4
 },
 "nbformat": 4,
 "nbformat_minor": 2
}

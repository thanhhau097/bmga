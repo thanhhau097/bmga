{
 "cells": [
  {
   "cell_type": "code",
   "execution_count": null,
   "metadata": {},
   "outputs": [],
   "source": [
    "# export environment variables\n",
    "import os\n",
    "os.environ[\"CUDA_VISIBLE_DEVICES\"] = \"0\""
   ]
  },
  {
   "cell_type": "code",
   "execution_count": null,
   "metadata": {},
   "outputs": [],
   "source": [
    "import sys\n",
    "\n",
    "sys.path.insert(0, \"./text_detection/src\")\n",
    "sys.path.append(\"./classification/src\")\n",
    "sys.path.append(\"./detection/src\")\n",
    "sys.path.append(\"./text_recognition/src\")\n",
    "\n",
    "import os\n",
    "import pandas as pd\n",
    "\n",
    "from classification.core import ClassificationModel\n",
    "from detection.core import ObjectDetectionModel\n",
    "from text_recognition.core import TextRecognitionModel\n",
    "from text_detection.core import TextDetectionModel\n",
    "from postprocessing.core import Postprocessing\n",
    "\n"
   ]
  },
  {
   "cell_type": "code",
   "execution_count": null,
   "metadata": {},
   "outputs": [],
   "source": [
    "graph_classfication_config = {\n",
    "    \"model_name\": \"resnet50\",\n",
    "    \"n_classes\": 5,\n",
    "    \"weights_path\": \"./weights/graph_classification.pth\",\n",
    "}\n",
    "\n",
    "x_type_classification_config = {\n",
    "    \"model_name\": \"resnet50\",\n",
    "    \"n_classes\": 2,\n",
    "    \"weights_path\": \"./weights/x_type_classification.pth\",\n",
    "}\n",
    "\n",
    "y_type_classification_config = {\n",
    "    \"model_name\": \"resnet50\",\n",
    "    \"n_classes\": 2,\n",
    "    \"weights_path\": \"./weights/y_type_classification.pth\",\n",
    "}\n",
    "\n",
    "keypoint_detection_config = {\n",
    "    \"name\": \"keypoint_detection\",\n",
    "    \"experiment_path\": \"./detection/src/exps/example/custom/bmga.py\",\n",
    "    \"weights_path\": \"./weights/keypoint_detection.pth\",\n",
    "    \"classes\": [\"value\", \"x\", \"y\", \"x_label\", \"y_label\"],\n",
    "    \"conf_thre\": 0.15,\n",
    "    \"nms_thre\": 0.25,\n",
    "    \"test_size\": (640, 640),\n",
    "}\n",
    "\n",
    "text_detection_config = {\n",
    "    \"weights_path\": \"./weights/synthtext_finetune_ic19_res50_dcn_fpn_dbv2\",\n",
    "    # \"config_path\": \"/home/thanh/shared_disk/thanh/bmga/text_detection/src/experiments/seg_detector/totaltext_resnet50_deform_thre.yaml\",\n",
    "    \"config_path\": \"/home/thanh/shared_disk/thanh/bmga/text_detection/src/experiments/ASF/td500_resnet50_deform_thre_asf.yaml\",\n",
    "    \"image_short_side\": 2048,\n",
    "    \"thresh\": 0.1,\n",
    "    \"box_thresh\": 0.05,\n",
    "    \"resize\": False,\n",
    "    \"polygon\": True,\n",
    "}\n",
    "\n",
    "text_recognition_config = {\n",
    "    \"weights_path\": \"baudm/parseq\",\n",
    "    \"model_name\": \"parseq\",\n",
    "}\n",
    "\n",
    "\n",
    "# classification_model = ClassificationModel(**graph_classfication_config)\n",
    "# x_type_classification_model = ClassificationModel(**x_type_classification_config)\n",
    "# y_type_classification_model = ClassificationModel(**y_type_classification_config)\n",
    "# keypoint_detection_model = ObjectDetectionModel(**keypoint_detection_config)\n",
    "text_detection_model = TextDetectionModel(**text_detection_config)\n",
    "# text_recognition_model = TextRecognitionModel(**text_recognition_config)"
   ]
  },
  {
   "cell_type": "code",
   "execution_count": null,
   "metadata": {},
   "outputs": [],
   "source": [
    "image_folder = \"./data/validation/images\"\n",
    "image_paths = [os.path.join(image_folder, x) for x in os.listdir(image_folder) if \".jpg\" in x][2:3]"
   ]
  },
  {
   "cell_type": "code",
   "execution_count": null,
   "metadata": {},
   "outputs": [],
   "source": [
    "# classification_results = classification_model.predict(image_paths)\n",
    "# x_type_classification_results = x_type_classification_model.predict(image_paths)\n",
    "# y_type_classification_results = y_type_classification_model.predict(image_paths)\n",
    "# keypoint_detection_results = keypoint_detection_model.predict(image_paths)\n",
    "\n",
    "text_detection_results = text_detection_model.predict(image_paths)\n",
    "polygons = text_detection_results[0][0][0]\n",
    "path = image_paths[0]\n",
    "\n",
    "# visualize\n",
    "import cv2\n",
    "import numpy as np\n",
    "import matplotlib.pyplot as plt\n",
    "\n",
    "img = cv2.imread(path)\n",
    "img = cv2.cvtColor(img, cv2.COLOR_BGR2RGB)\n",
    "\n",
    "for polygon in polygons:\n",
    "    polygon = np.array(polygon).astype(np.int32)\n",
    "    img = cv2.polylines(img, [polygon], True, (0, 255, 0), 2)\n",
    "\n",
    "plt.imshow(img)\n",
    "plt.show()"
   ]
  },
  {
   "cell_type": "code",
   "execution_count": null,
   "metadata": {},
   "outputs": [],
   "source": []
  },
  {
   "cell_type": "code",
   "execution_count": null,
   "metadata": {},
   "outputs": [],
   "source": []
  },
  {
   "cell_type": "code",
   "execution_count": null,
   "metadata": {},
   "outputs": [],
   "source": []
  },
  {
   "cell_type": "code",
   "execution_count": null,
   "metadata": {},
   "outputs": [],
   "source": []
  }
 ],
 "metadata": {
  "kernelspec": {
   "display_name": "idp",
   "language": "python",
   "name": "python3"
  },
  "language_info": {
   "codemirror_mode": {
    "name": "ipython",
    "version": 3
   },
   "file_extension": ".py",
   "mimetype": "text/x-python",
   "name": "python",
   "nbconvert_exporter": "python",
   "pygments_lexer": "ipython3",
   "version": "3.8.13"
  },
  "orig_nbformat": 4
 },
 "nbformat": 4,
 "nbformat_minor": 2
}
